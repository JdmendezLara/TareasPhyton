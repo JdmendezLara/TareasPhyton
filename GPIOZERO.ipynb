{
  "nbformat": 4,
  "nbformat_minor": 0,
  "metadata": {
    "colab": {
      "name": "Untitled9.ipynb",
      "provenance": [],
      "authorship_tag": "ABX9TyPHJxWkbwu3KvPy3ABJxqvy",
      "include_colab_link": true
    },
    "kernelspec": {
      "name": "python3",
      "display_name": "Python 3"
    },
    "language_info": {
      "name": "python"
    }
  },
  "cells": [
    {
      "cell_type": "markdown",
      "metadata": {
        "id": "view-in-github",
        "colab_type": "text"
      },
      "source": [
        "<a href=\"https://colab.research.google.com/github/JdmendezLara/TareasPhyton/blob/main/GPIOZERO.ipynb\" target=\"_parent\"><img src=\"https://colab.research.google.com/assets/colab-badge.svg\" alt=\"Open In Colab\"/></a>"
      ]
    },
    {
      "cell_type": "code",
      "metadata": {
        "id": "egYWbj0VjtRL"
      },
      "source": [
        "from gpiozero import Button\n",
        "from gpiozero import LED\n",
        "from signal import pause\n",
        "\n",
        "Boton2 = Button(2)\n",
        "Boton3 = Button(3)\n",
        "Boton4 = Button(4)\n",
        "ledR = LED(14,initial_value = False)\n",
        "ledV = LED(15,initial_value = False)\n",
        "ledA = LED(18,initial_value = False)\n",
        "\n",
        "def Ledrojo1():\n",
        "  ledR.toggle()\n",
        "def Ledrojo2():\n",
        "  ledR.blink(on_time = 1.5, off_time = 1.5, n = 10)\n",
        "\n",
        "def Ledverde1():\n",
        "  ledV.toggle()\n",
        "def Ledverde2():\n",
        "  ledV.blink(on_time = 1.5, off_time = 1.5, n = 10)\n",
        "\n",
        "def Ledazul1():\n",
        "  ledA.toggle()\n",
        "def Ledazul2():\n",
        "  ledA.blink(on_time = 1.5, off_time = 1.5, n = 10)\n",
        "\n",
        "try:\n",
        "\n",
        "  Boton2.when_pressed = Ledrojo1\n",
        "  Boton2.when_held = Ledrojo2\n",
        "  Boton3.when_pressed = Ledverde1\n",
        "  Boton3.when_held = Ledverde2\n",
        "  Boton4.when_pressed = Ledazul1\n",
        "  Boton4.when_held = Ledazul2\n",
        "  \n",
        "  pause()\n",
        "\n",
        "finally:\n",
        "  pass"
      ],
      "execution_count": null,
      "outputs": []
    }
  ]
}