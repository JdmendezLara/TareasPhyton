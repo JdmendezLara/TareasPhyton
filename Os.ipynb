{
  "nbformat": 4,
  "nbformat_minor": 0,
  "metadata": {
    "colab": {
      "name": "Untitled4.ipynb",
      "provenance": [],
      "collapsed_sections": [],
      "authorship_tag": "ABX9TyNj1/yDs2mOH96qnGqEjh6F",
      "include_colab_link": true
    },
    "kernelspec": {
      "name": "python3",
      "display_name": "Python 3"
    },
    "language_info": {
      "name": "python"
    }
  },
  "cells": [
    {
      "cell_type": "markdown",
      "metadata": {
        "id": "view-in-github",
        "colab_type": "text"
      },
      "source": [
        "<a href=\"https://colab.research.google.com/github/JdmendezLara/TareasPhyton/blob/main/Os.ipynb\" target=\"_parent\"><img src=\"https://colab.research.google.com/assets/colab-badge.svg\" alt=\"Open In Colab\"/></a>"
      ]
    },
    {
      "cell_type": "markdown",
      "metadata": {
        "id": "D1RMW8HOpPXP"
      },
      "source": [
        "Julián David Méndez Lara   20201005028"
      ]
    },
    {
      "cell_type": "code",
      "metadata": {
        "colab": {
          "base_uri": "https://localhost:8080/",
          "height": 35
        },
        "id": "7bRvshVEYmF5",
        "outputId": "2de12855-9e47-479c-c881-8ff338223e2a"
      },
      "source": [
        "import os\n",
        "os.getcwd()\n",
        "\n"
      ],
      "execution_count": 56,
      "outputs": [
        {
          "output_type": "execute_result",
          "data": {
            "application/vnd.google.colaboratory.intrinsic+json": {
              "type": "string"
            },
            "text/plain": [
              "'/content'"
            ]
          },
          "metadata": {},
          "execution_count": 56
        }
      ]
    },
    {
      "cell_type": "code",
      "metadata": {
        "colab": {
          "base_uri": "https://localhost:8080/"
        },
        "id": "6AnOvljpip9P",
        "outputId": "11133461-48d6-4082-9040-6f999a678270"
      },
      "source": [
        "import os\n",
        "os.listdir()\n"
      ],
      "execution_count": 57,
      "outputs": [
        {
          "output_type": "execute_result",
          "data": {
            "text/plain": [
              "['.config', '.ipynb_checkpoints', 'sample_data']"
            ]
          },
          "metadata": {},
          "execution_count": 57
        }
      ]
    },
    {
      "cell_type": "code",
      "metadata": {
        "id": "BMqaVicwkVpr"
      },
      "source": [
        "import os\n",
        "os.mkdir('modulo1')\n",
        "os.mkdir('modulo2')\n",
        "os.mkdir('modulo3')\n"
      ],
      "execution_count": 58,
      "outputs": []
    },
    {
      "cell_type": "code",
      "metadata": {
        "colab": {
          "base_uri": "https://localhost:8080/",
          "height": 35
        },
        "id": "-X9m-aASkcsa",
        "outputId": "2b3a2439-a963-4008-fef6-0d751329f731"
      },
      "source": [
        "import os\n",
        "os.chdir('modulo1')\n",
        "os.mkdir('comentario1')\n",
        "os.getcwd()"
      ],
      "execution_count": 59,
      "outputs": [
        {
          "output_type": "execute_result",
          "data": {
            "application/vnd.google.colaboratory.intrinsic+json": {
              "type": "string"
            },
            "text/plain": [
              "'/content/modulo1'"
            ]
          },
          "metadata": {},
          "execution_count": 59
        }
      ]
    },
    {
      "cell_type": "code",
      "metadata": {
        "colab": {
          "base_uri": "https://localhost:8080/",
          "height": 231
        },
        "id": "DJ6nY7oAptmX",
        "outputId": "256dc686-d1e2-4e4b-e3b6-1c0e6124a6bd"
      },
      "source": [
        "import os\n",
        "os.chdir('modulo1')\n",
        "os.chdir('comentario1')\n",
        "os.mkdir('hello')\n",
        "os.getcwd()"
      ],
      "execution_count": 62,
      "outputs": [
        {
          "output_type": "error",
          "ename": "FileNotFoundError",
          "evalue": "ignored",
          "traceback": [
            "\u001b[0;31m---------------------------------------------------------------------------\u001b[0m",
            "\u001b[0;31mFileNotFoundError\u001b[0m                         Traceback (most recent call last)",
            "\u001b[0;32m<ipython-input-62-c9b0f6df9a93>\u001b[0m in \u001b[0;36m<module>\u001b[0;34m()\u001b[0m\n\u001b[1;32m      1\u001b[0m \u001b[0;32mimport\u001b[0m \u001b[0mos\u001b[0m\u001b[0;34m\u001b[0m\u001b[0;34m\u001b[0m\u001b[0m\n\u001b[0;32m----> 2\u001b[0;31m \u001b[0mos\u001b[0m\u001b[0;34m.\u001b[0m\u001b[0mchdir\u001b[0m\u001b[0;34m(\u001b[0m\u001b[0;34m'modulo1'\u001b[0m\u001b[0;34m)\u001b[0m\u001b[0;34m\u001b[0m\u001b[0;34m\u001b[0m\u001b[0m\n\u001b[0m\u001b[1;32m      3\u001b[0m \u001b[0mos\u001b[0m\u001b[0;34m.\u001b[0m\u001b[0mchdir\u001b[0m\u001b[0;34m(\u001b[0m\u001b[0;34m'comentario1'\u001b[0m\u001b[0;34m)\u001b[0m\u001b[0;34m\u001b[0m\u001b[0;34m\u001b[0m\u001b[0m\n\u001b[1;32m      4\u001b[0m \u001b[0mos\u001b[0m\u001b[0;34m.\u001b[0m\u001b[0mmkdir\u001b[0m\u001b[0;34m(\u001b[0m\u001b[0;34m'hello'\u001b[0m\u001b[0;34m)\u001b[0m\u001b[0;34m\u001b[0m\u001b[0;34m\u001b[0m\u001b[0m\n\u001b[1;32m      5\u001b[0m \u001b[0mos\u001b[0m\u001b[0;34m.\u001b[0m\u001b[0mgetcwd\u001b[0m\u001b[0;34m(\u001b[0m\u001b[0;34m)\u001b[0m\u001b[0;34m\u001b[0m\u001b[0;34m\u001b[0m\u001b[0m\n",
            "\u001b[0;31mFileNotFoundError\u001b[0m: [Errno 2] No such file or directory: 'modulo1'"
          ]
        }
      ]
    },
    {
      "cell_type": "code",
      "metadata": {
        "colab": {
          "base_uri": "https://localhost:8080/",
          "height": 35
        },
        "id": "pbC2nY52oC-e",
        "outputId": "c039ed1d-9c19-4e78-e250-5dde649acfbe"
      },
      "source": [
        "import os\n",
        "os.chdir('modulo2')\n",
        "os.mkdir('comentario2')\n",
        "os.getcwd()"
      ],
      "execution_count": 64,
      "outputs": [
        {
          "output_type": "execute_result",
          "data": {
            "application/vnd.google.colaboratory.intrinsic+json": {
              "type": "string"
            },
            "text/plain": [
              "'/content/modulo2'"
            ]
          },
          "metadata": {},
          "execution_count": 64
        }
      ]
    },
    {
      "cell_type": "code",
      "metadata": {
        "colab": {
          "base_uri": "https://localhost:8080/",
          "height": 35
        },
        "id": "ICjJJle1qd2v",
        "outputId": "0732a69d-a375-4ca2-8ac6-182615c0ebc3"
      },
      "source": [
        "import os\n",
        "os.chdir('modulo2')\n",
        "os.chdir('comentario2')\n",
        "os.mkdir('wow')\n",
        "os.getcwd()"
      ],
      "execution_count": 67,
      "outputs": [
        {
          "output_type": "execute_result",
          "data": {
            "application/vnd.google.colaboratory.intrinsic+json": {
              "type": "string"
            },
            "text/plain": [
              "'/content/modulo2/comentario2'"
            ]
          },
          "metadata": {},
          "execution_count": 67
        }
      ]
    },
    {
      "cell_type": "code",
      "metadata": {
        "colab": {
          "base_uri": "https://localhost:8080/",
          "height": 35
        },
        "id": "UGaxY6M9oDJY",
        "outputId": "b49767c8-1c30-4f0d-c2cb-07fca478ae7b"
      },
      "source": [
        "import os\n",
        "os.chdir('modulo3')\n",
        "os.mkdir('comentario3')\n",
        "os.getcwd()"
      ],
      "execution_count": 70,
      "outputs": [
        {
          "output_type": "execute_result",
          "data": {
            "application/vnd.google.colaboratory.intrinsic+json": {
              "type": "string"
            },
            "text/plain": [
              "'/content/modulo3'"
            ]
          },
          "metadata": {},
          "execution_count": 70
        }
      ]
    },
    {
      "cell_type": "code",
      "metadata": {
        "colab": {
          "base_uri": "https://localhost:8080/",
          "height": 35
        },
        "id": "GNItIYCVqwcB",
        "outputId": "4c72adf4-c82c-4cd9-fb52-8ba78a043095"
      },
      "source": [
        "import os\n",
        "os.chdir('modulo3')\n",
        "os.chdir('comentario3')\n",
        "os.mkdir('adios')\n",
        "os.getcwd()"
      ],
      "execution_count": 72,
      "outputs": [
        {
          "output_type": "execute_result",
          "data": {
            "application/vnd.google.colaboratory.intrinsic+json": {
              "type": "string"
            },
            "text/plain": [
              "'/content/modulo3/comentario3'"
            ]
          },
          "metadata": {},
          "execution_count": 72
        }
      ]
    },
    {
      "cell_type": "code",
      "metadata": {
        "colab": {
          "base_uri": "https://localhost:8080/",
          "height": 35
        },
        "id": "Vd01EN6Cmz6x",
        "outputId": "219c54f7-79c7-433f-e3d7-9bedbe60877b"
      },
      "source": [
        "import os\n",
        "os.chdir('/content')\n",
        "os.getcwd()"
      ],
      "execution_count": 73,
      "outputs": [
        {
          "output_type": "execute_result",
          "data": {
            "application/vnd.google.colaboratory.intrinsic+json": {
              "type": "string"
            },
            "text/plain": [
              "'/content'"
            ]
          },
          "metadata": {},
          "execution_count": 73
        }
      ]
    },
    {
      "cell_type": "code",
      "metadata": {
        "id": "M1hCp8FrntdX"
      },
      "source": [
        "import os\n",
        "os.rename('modulo1','Modulacion')\n",
        "os.rename('modulo2','transicion')\n",
        "os.rename('modulo3','Copiadeseguridad')"
      ],
      "execution_count": 74,
      "outputs": []
    },
    {
      "cell_type": "code",
      "metadata": {
        "colab": {
          "base_uri": "https://localhost:8080/"
        },
        "id": "8l0iK5dRoqdu",
        "outputId": "112983b5-a30b-40a9-b0cc-db1cbe16518a"
      },
      "source": [
        "import os\n",
        "os.stat('Modulacion')"
      ],
      "execution_count": 75,
      "outputs": [
        {
          "output_type": "execute_result",
          "data": {
            "text/plain": [
              "os.stat_result(st_mode=16877, st_ino=6029315, st_dev=50, st_nlink=3, st_uid=0, st_gid=0, st_size=4096, st_atime=1629330432, st_mtime=1629330417, st_ctime=1629330581)"
            ]
          },
          "metadata": {},
          "execution_count": 75
        }
      ]
    }
  ]
}